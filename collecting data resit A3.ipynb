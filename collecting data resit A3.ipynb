{
 "cells": [
  {
   "cell_type": "code",
   "execution_count": 14,
   "id": "db5376b1",
   "metadata": {},
   "outputs": [],
   "source": [
    "import pandas as pd"
   ]
  },
  {
   "cell_type": "code",
   "execution_count": 15,
   "id": "daf4fa4e",
   "metadata": {},
   "outputs": [],
   "source": [
    "import requests"
   ]
  },
  {
   "cell_type": "code",
   "execution_count": 16,
   "id": "8e0bd97d",
   "metadata": {},
   "outputs": [],
   "source": [
    "from bs4 import BeautifulSoup"
   ]
  },
  {
   "cell_type": "code",
   "execution_count": 17,
   "id": "018961ae",
   "metadata": {},
   "outputs": [],
   "source": [
    "response = requests.get(\"https://www.azlyrics.com/lyrics/rihanna/diamonds.html\")\n",
    "html_string = response.text"
   ]
  },
  {
   "cell_type": "code",
   "execution_count": 18,
   "id": "72454891",
   "metadata": {},
   "outputs": [
    {
     "data": {
      "text/plain": [
       "'\"Diamonds\" lyrics'"
      ]
     },
     "execution_count": 18,
     "metadata": {},
     "output_type": "execute_result"
    }
   ],
   "source": [
    "document1 = BeautifulSoup(html_string,\"html.parser\")\n",
    "document1.find(\"h1\").text"
   ]
  },
  {
   "cell_type": "code",
   "execution_count": 19,
   "id": "ba729490",
   "metadata": {},
   "outputs": [
    {
     "data": {
      "text/plain": [
       "'Diamonds\"'"
      ]
     },
     "execution_count": 19,
     "metadata": {},
     "output_type": "execute_result"
    }
   ],
   "source": [
    "title1 = document1.find(\"h1\").text[1:10]\n",
    "title1"
   ]
  },
  {
   "cell_type": "code",
   "execution_count": 25,
   "id": "a1e39658",
   "metadata": {},
   "outputs": [
    {
     "data": {
      "text/plain": [
       "['Shine bright like a diamond',\n",
       " 'Shine bright like a diamond',\n",
       " 'Find light in the beautiful sea',\n",
       " 'I choose to be happy',\n",
       " 'You and I, you and I',\n",
       " \"We're like diamonds in the sky\",\n",
       " \"You're a shooting star I see\",\n",
       " 'A vision of ecstasy',\n",
       " \"When you hold me, I'm alive\",\n",
       " \"We're like diamonds in the sky\",\n",
       " \"I knew that we'd become one right away\",\n",
       " 'Oh, right away',\n",
       " 'At first sight I felt the energy of sun rays',\n",
       " 'I saw the life inside your eyes',\n",
       " 'So shine bright tonight, you and I',\n",
       " \"We're beautiful like diamonds in the sky\",\n",
       " 'Eye to eye, so alive',\n",
       " \"We're beautiful like diamonds in the sky\",\n",
       " 'Shine bright like a diamond',\n",
       " 'Shine bright like a diamond',\n",
       " 'Shine bright like a diamond',\n",
       " \"We're beautiful like diamonds in the sky\",\n",
       " 'Shine bright like a diamond',\n",
       " 'Shine bright like a diamond',\n",
       " 'Shine bright like a diamond',\n",
       " \"We're beautiful like diamonds in the sky\",\n",
       " 'Palms rise to the universe',\n",
       " 'As we moonshine and molly',\n",
       " \"Feel the warmth, we'll never die\",\n",
       " \"We're like diamonds in the sky\",\n",
       " \"You're a shooting star I see\",\n",
       " 'A vision of ecstasy',\n",
       " \"When you hold me, I'm alive\",\n",
       " \"We're like diamonds in the sky\",\n",
       " 'At first sight I felt the energy of sun rays',\n",
       " 'I saw the life inside your eyes',\n",
       " 'So shine bright tonight, you and I',\n",
       " \"We're beautiful like diamonds in the sky\",\n",
       " 'Eye to eye, so alive',\n",
       " \"We're beautiful like diamonds in the sky\",\n",
       " 'Shine bright like a diamond',\n",
       " 'Shine bright like a diamond',\n",
       " 'Shine bright like a diamond',\n",
       " \"We're beautiful like diamonds in the sky\",\n",
       " 'Shine bright like a diamond',\n",
       " 'Shine bright like a diamond',\n",
       " 'Shine bright like a diamond',\n",
       " \"We're beautiful like diamonds in the sky\",\n",
       " 'Shine bright like a diamond',\n",
       " 'Shine bright like a diamond',\n",
       " 'Shine bright like a diamond',\n",
       " 'So shine bright tonight, you and I',\n",
       " \"We're beautiful like diamonds in the sky\",\n",
       " 'Eye to eye, so alive',\n",
       " \"We're beautiful like diamonds in the sky\",\n",
       " 'Shine bright like a diamond',\n",
       " 'Shine bright like a diamond',\n",
       " 'Shine bright like a diamond',\n",
       " 'Oh, yeah',\n",
       " 'Shine bright like a diamond',\n",
       " 'Shine bright like a diamond',\n",
       " 'Shine bright like a diamond',\n",
       " 'Shine bright like a diamond']"
      ]
     },
     "execution_count": 25,
     "metadata": {},
     "output_type": "execute_result"
    }
   ],
   "source": [
    "lyrics1 = document1.find(\"div\", attrs={\"class\":\"col-xs-12 col-lg-8 text-center\"}).text.strip().split('\\n')\n",
    "\n",
    "while '' in lyrics1:\n",
    "    lyrics1.remove('')\n",
    "lyrics1 = lyrics1[4:67]\n",
    "lyrics1"
   ]
  },
  {
   "cell_type": "code",
   "execution_count": 26,
   "id": "ad7d7feb",
   "metadata": {},
   "outputs": [
    {
     "data": {
      "text/plain": [
       "\"Shine bright like a diamondShine bright like a diamondFind light in the beautiful seaI choose to be happyYou and I, you and IWe're like diamonds in the skyYou're a shooting star I seeA vision of ecstasyWhen you hold me, I'm aliveWe're like diamonds in the skyI knew that we'd become one right awayOh, right awayAt first sight I felt the energy of sun raysI saw the life inside your eyesSo shine bright tonight, you and IWe're beautiful like diamonds in the skyEye to eye, so aliveWe're beautiful like diamonds in the skyShine bright like a diamondShine bright like a diamondShine bright like a diamondWe're beautiful like diamonds in the skyShine bright like a diamondShine bright like a diamondShine bright like a diamondWe're beautiful like diamonds in the skyPalms rise to the universeAs we moonshine and mollyFeel the warmth, we'll never dieWe're like diamonds in the skyYou're a shooting star I seeA vision of ecstasyWhen you hold me, I'm aliveWe're like diamonds in the skyAt first sight I felt the energy of sun raysI saw the life inside your eyesSo shine bright tonight, you and IWe're beautiful like diamonds in the skyEye to eye, so aliveWe're beautiful like diamonds in the skyShine bright like a diamondShine bright like a diamondShine bright like a diamondWe're beautiful like diamonds in the skyShine bright like a diamondShine bright like a diamondShine bright like a diamondWe're beautiful like diamonds in the skyShine bright like a diamondShine bright like a diamondShine bright like a diamondSo shine bright tonight, you and IWe're beautiful like diamonds in the skyEye to eye, so aliveWe're beautiful like diamonds in the skyShine bright like a diamondShine bright like a diamondShine bright like a diamondOh, yeahShine bright like a diamondShine bright like a diamondShine bright like a diamondShine bright like a diamond\""
      ]
     },
     "execution_count": 26,
     "metadata": {},
     "output_type": "execute_result"
    }
   ],
   "source": [
    "lyrics1 = ''.join(lyrics1)\n",
    "lyrics1"
   ]
  },
  {
   "cell_type": "code",
   "execution_count": 27,
   "id": "aad11c3f",
   "metadata": {},
   "outputs": [],
   "source": [
    "response = requests.get(\"https://www.azlyrics.com/lyrics/rihanna/umbrella.html\")\n",
    "html_string = response.text"
   ]
  },
  {
   "cell_type": "code",
   "execution_count": 28,
   "id": "40117eec",
   "metadata": {},
   "outputs": [],
   "source": [
    "document2 = BeautifulSoup(html_string,\"html.parser\")"
   ]
  },
  {
   "cell_type": "code",
   "execution_count": 38,
   "id": "6ad375f2",
   "metadata": {},
   "outputs": [
    {
     "data": {
      "text/plain": [
       "['Uh-huh, uh-huh (Yeah, Rihanna)',\n",
       " 'Uh-huh, uh-huh (Good Girl Gone Bad)',\n",
       " 'Uh-huh, uh-huh (Take three, action)',\n",
       " 'Uh-huh, uh-huh (Hov)',\n",
       " '',\n",
       " 'No clouds in my stones',\n",
       " 'Let it rain, I hydroplane in the bank',\n",
       " 'Coming down with the Dow Jones',\n",
       " 'When the clouds come, we gone, we Roc-A-Fella',\n",
       " \"We fly higher than weather, in G5's or better\",\n",
       " 'You know me (You know me)',\n",
       " 'In anticipation for precipitation, stack chips for the rainy day',\n",
       " 'Jayâ\\x80\\x94Rain Man is back',\n",
       " 'With Little Miss Sunshine, Rihanna, where you at?',\n",
       " '',\n",
       " 'You have my heart',\n",
       " \"And we'll never be worlds apart\",\n",
       " 'Maybe in magazines',\n",
       " \"But you'll still be my star\",\n",
       " \"Baby, 'cause in the dark\",\n",
       " \"You can't see shiny cars\",\n",
       " \"And that's when you need me there\",\n",
       " \"With you, I'll always share\",\n",
       " 'Because',\n",
       " '',\n",
       " 'When the sun shine, we shine together',\n",
       " \"Told you I'll be here forever\",\n",
       " \"Said I'll always be your friend\",\n",
       " \"Took an oath, I'ma stick it out to the end\",\n",
       " \"Now that it's raining more than ever\",\n",
       " \"Know that we'll still have each other\",\n",
       " 'You can stand under my umbrella',\n",
       " 'You can stand under my umbrellaâ\\x80\\x94ellaâ\\x80\\x94ella, eh, eh, eh',\n",
       " 'Under my umbrellaâ\\x80\\x94ellaâ\\x80\\x94ella, eh, eh, eh',\n",
       " 'Under my umbrellaâ\\x80\\x94ellaâ\\x80\\x94ella, eh, eh, eh',\n",
       " 'Under my umbrellaâ\\x80\\x94ellaâ\\x80\\x94ella, eh, eh, eh, eh, eh-eh',\n",
       " '',\n",
       " 'These fancy things',\n",
       " 'Will never come in between',\n",
       " \"You're part of my entity\",\n",
       " 'Here for infinity',\n",
       " 'When the war has took its part',\n",
       " 'When the world has dealt its cards',\n",
       " 'If the hand is hard',\n",
       " \"Together we'll mend your heart\",\n",
       " 'Because',\n",
       " '',\n",
       " 'When the sun shine, we shine together',\n",
       " \"Told you I'll be here forever\",\n",
       " \"Said I'll always be your friend\",\n",
       " \"Took an oath, I'ma stick it out to the end\",\n",
       " \"Now that it's raining more than ever\",\n",
       " \"Know that we'll still have each other\",\n",
       " 'You can stand under my umbrella',\n",
       " 'You can stand under my umbrellaâ\\x80\\x94ellaâ\\x80\\x94ella, eh, eh, eh',\n",
       " 'Under my umbrellaâ\\x80\\x94ellaâ\\x80\\x94ella, eh, eh, eh',\n",
       " 'Under my umbrellaâ\\x80\\x94ellaâ\\x80\\x94ella, eh, eh, eh',\n",
       " 'Under my umbrellaâ\\x80\\x94ellaâ\\x80\\x94ella, eh, eh, eh, eh, eh-eh',\n",
       " '',\n",
       " 'You can run into my arms',\n",
       " \"It's okay, don't be alarmed\",\n",
       " 'Come into me',\n",
       " \"There's no distance in between our love\",\n",
       " \"So gon' and let the rain pour\",\n",
       " \"I'll be all you need and more\",\n",
       " 'Because',\n",
       " '',\n",
       " 'When the sun shine, we shine together',\n",
       " \"Told you I'll be here forever\",\n",
       " \"Said I'll always be your friend\",\n",
       " \"Took an oath, I'ma stick it out to the end\",\n",
       " \"Now that it's raining more than ever\",\n",
       " \"Know that we'll still have each other\",\n",
       " 'You can stand under my umbrella',\n",
       " 'You can stand under my umbrellaâ\\x80\\x94ellaâ\\x80\\x94ella, eh, eh, eh',\n",
       " 'Under my umbrellaâ\\x80\\x94ellaâ\\x80\\x94ella, eh, eh, eh',\n",
       " 'Under my umbrellaâ\\x80\\x94ellaâ\\x80\\x94ella, eh, eh, eh',\n",
       " 'Under my umbrellaâ\\x80\\x94ellaâ\\x80\\x94ella, eh, eh, eh, eh, eh-eh',\n",
       " '',\n",
       " \"It's raining, raining\",\n",
       " \"Ooh, baby, it's raining, raining\",\n",
       " 'Baby, come here to me',\n",
       " 'Come into me',\n",
       " \"It's raining, raining\",\n",
       " \"Ooh, baby, it's raining, raining\",\n",
       " 'You can always come into me',\n",
       " 'Come into me',\n",
       " \"It's pouring rain\",\n",
       " \"It's pouring rain\",\n",
       " 'Come here to me',\n",
       " 'Come into me',\n",
       " \"It's pouring rain\",\n",
       " \"It's pouring rain\"]"
      ]
     },
     "execution_count": 38,
     "metadata": {},
     "output_type": "execute_result"
    }
   ],
   "source": [
    "lyrics2 = document2.find(\"div\", attrs={\"class\":\"col-xs-12 col-lg-8 text-center\"}).text.strip().split('\\n')\n",
    "lyrics2 = lyrics2[11:104]\n",
    "lyrics2"
   ]
  },
  {
   "cell_type": "code",
   "execution_count": 39,
   "id": "5e66886b",
   "metadata": {},
   "outputs": [
    {
     "data": {
      "text/plain": [
       "\"Uh-huh, uh-huh (Yeah, Rihanna)Uh-huh, uh-huh (Good Girl Gone Bad)Uh-huh, uh-huh (Take three, action)Uh-huh, uh-huh (Hov)No clouds in my stonesLet it rain, I hydroplane in the bankComing down with the Dow JonesWhen the clouds come, we gone, we Roc-A-FellaWe fly higher than weather, in G5's or betterYou know me (You know me)In anticipation for precipitation, stack chips for the rainy dayJayâ\\x80\\x94Rain Man is backWith Little Miss Sunshine, Rihanna, where you at?You have my heartAnd we'll never be worlds apartMaybe in magazinesBut you'll still be my starBaby, 'cause in the darkYou can't see shiny carsAnd that's when you need me thereWith you, I'll always shareBecauseWhen the sun shine, we shine togetherTold you I'll be here foreverSaid I'll always be your friendTook an oath, I'ma stick it out to the endNow that it's raining more than everKnow that we'll still have each otherYou can stand under my umbrellaYou can stand under my umbrellaâ\\x80\\x94ellaâ\\x80\\x94ella, eh, eh, ehUnder my umbrellaâ\\x80\\x94ellaâ\\x80\\x94ella, eh, eh, ehUnder my umbrellaâ\\x80\\x94ellaâ\\x80\\x94ella, eh, eh, ehUnder my umbrellaâ\\x80\\x94ellaâ\\x80\\x94ella, eh, eh, eh, eh, eh-ehThese fancy thingsWill never come in betweenYou're part of my entityHere for infinityWhen the war has took its partWhen the world has dealt its cardsIf the hand is hardTogether we'll mend your heartBecauseWhen the sun shine, we shine togetherTold you I'll be here foreverSaid I'll always be your friendTook an oath, I'ma stick it out to the endNow that it's raining more than everKnow that we'll still have each otherYou can stand under my umbrellaYou can stand under my umbrellaâ\\x80\\x94ellaâ\\x80\\x94ella, eh, eh, ehUnder my umbrellaâ\\x80\\x94ellaâ\\x80\\x94ella, eh, eh, ehUnder my umbrellaâ\\x80\\x94ellaâ\\x80\\x94ella, eh, eh, ehUnder my umbrellaâ\\x80\\x94ellaâ\\x80\\x94ella, eh, eh, eh, eh, eh-ehYou can run into my armsIt's okay, don't be alarmedCome into meThere's no distance in between our loveSo gon' and let the rain pourI'll be all you need and moreBecauseWhen the sun shine, we shine togetherTold you I'll be here foreverSaid I'll always be your friendTook an oath, I'ma stick it out to the endNow that it's raining more than everKnow that we'll still have each otherYou can stand under my umbrellaYou can stand under my umbrellaâ\\x80\\x94ellaâ\\x80\\x94ella, eh, eh, ehUnder my umbrellaâ\\x80\\x94ellaâ\\x80\\x94ella, eh, eh, ehUnder my umbrellaâ\\x80\\x94ellaâ\\x80\\x94ella, eh, eh, ehUnder my umbrellaâ\\x80\\x94ellaâ\\x80\\x94ella, eh, eh, eh, eh, eh-ehIt's raining, rainingOoh, baby, it's raining, rainingBaby, come here to meCome into meIt's raining, rainingOoh, baby, it's raining, rainingYou can always come into meCome into meIt's pouring rainIt's pouring rainCome here to meCome into meIt's pouring rainIt's pouring rain\""
      ]
     },
     "execution_count": 39,
     "metadata": {},
     "output_type": "execute_result"
    }
   ],
   "source": [
    "lyrics2 = ''.join(lyrics2)\n",
    "lyrics2"
   ]
  },
  {
   "cell_type": "code",
   "execution_count": 40,
   "id": "9f189cb8",
   "metadata": {},
   "outputs": [],
   "source": [
    "response = requests.get(\"https://www.azlyrics.com/lyrics/rihanna/fourfiveseconds.html\")\n",
    "html_string = response.text"
   ]
  },
  {
   "cell_type": "code",
   "execution_count": 41,
   "id": "f9dced4f",
   "metadata": {},
   "outputs": [],
   "source": [
    "document3 = BeautifulSoup(html_string,\"html.parser\")"
   ]
  },
  {
   "cell_type": "code",
   "execution_count": 48,
   "id": "dfdaba6f",
   "metadata": {},
   "outputs": [
    {
     "data": {
      "text/plain": [
       "[\"I think I've had enough\",\n",
       " 'I might get a little drunk',\n",
       " \"I say what's on my mind\",\n",
       " 'I might do a little time',\n",
       " \"'Cause all of my kindness\",\n",
       " 'Is taken for weakness',\n",
       " '',\n",
       " \"Now I'm four, five seconds from wilding\",\n",
       " \"And we got three more days 'til Friday\",\n",
       " \"I'm just tryna make it back home by Monday morning\",\n",
       " 'I swear I wish somebody would tell me',\n",
       " \"Ooh, that's all I want\",\n",
       " '',\n",
       " 'Woke up an optimist',\n",
       " \"Sun was shining, I'm positive\",\n",
       " 'We can run',\n",
       " 'Then I heard you was talking trash',\n",
       " \"I'm on a mystery\",\n",
       " \"Hold me back, I'm 'bout to spaz\",\n",
       " '',\n",
       " \"Yeah, I'm 'bout four, five seconds from wilding\",\n",
       " \"And we got three more days 'til Friday\",\n",
       " \"I'm tryna make it back home by Monday morning\",\n",
       " 'I swear I wish somebody would try me',\n",
       " \"Ooh, that's all I want\",\n",
       " '',\n",
       " \"And I know that you're up tonight\",\n",
       " 'Thinking, \"How could I be so selfish?\"',\n",
       " \"But you called 'bout a thousand times\",\n",
       " \"Wondering where I've been\",\n",
       " \"Now I know that you're up tonight\",\n",
       " 'Thinking, \"How could I be so reckless?\"',\n",
       " \"But I just can't apologize\",\n",
       " 'I hope you can understand, yeah',\n",
       " '',\n",
       " 'If I go to jail tonight',\n",
       " \"Promise you'll pay my bail\",\n",
       " 'See they want to buy my pride',\n",
       " \"But that just ain't up for sale\",\n",
       " 'See all of my kindness (mhm)',\n",
       " 'Is taken for weakness',\n",
       " '',\n",
       " \"Now I'm four, five seconds from wilding\",\n",
       " \"And we got three more days 'til Friday\",\n",
       " \"I'm tryna make it back home by Monday morning\",\n",
       " 'I swear I wish somebody would tell me',\n",
       " \"Ooh, that's all I want\",\n",
       " 'Four, five seconds from wilding',\n",
       " \"And we got three more days 'til Friday\",\n",
       " 'Just tryna make it back home by Monday morning',\n",
       " 'I swear I wish somebody would tell me',\n",
       " \"'Cause that's all I want\"]"
      ]
     },
     "execution_count": 48,
     "metadata": {},
     "output_type": "execute_result"
    }
   ],
   "source": [
    "lyrics3 = document3.find(\"div\", attrs={\"class\":\"col-xs-12 col-lg-8 text-center\"}).text.strip().split('\\n')\n",
    "lyrics3 = lyrics3[12:64]\n",
    "lyrics3"
   ]
  },
  {
   "cell_type": "code",
   "execution_count": 50,
   "id": "c78599ef",
   "metadata": {},
   "outputs": [
    {
     "data": {
      "text/plain": [
       "'I think I\\'ve had enoughI might get a little drunkI say what\\'s on my mindI might do a little time\\'Cause all of my kindnessIs taken for weaknessNow I\\'m four, five seconds from wildingAnd we got three more days \\'til FridayI\\'m just tryna make it back home by Monday morningI swear I wish somebody would tell meOoh, that\\'s all I wantWoke up an optimistSun was shining, I\\'m positiveWe can runThen I heard you was talking trashI\\'m on a mysteryHold me back, I\\'m \\'bout to spazYeah, I\\'m \\'bout four, five seconds from wildingAnd we got three more days \\'til FridayI\\'m tryna make it back home by Monday morningI swear I wish somebody would try meOoh, that\\'s all I wantAnd I know that you\\'re up tonightThinking, \"How could I be so selfish?\"But you called \\'bout a thousand timesWondering where I\\'ve beenNow I know that you\\'re up tonightThinking, \"How could I be so reckless?\"But I just can\\'t apologizeI hope you can understand, yeahIf I go to jail tonightPromise you\\'ll pay my bailSee they want to buy my prideBut that just ain\\'t up for saleSee all of my kindness (mhm)Is taken for weaknessNow I\\'m four, five seconds from wildingAnd we got three more days \\'til FridayI\\'m tryna make it back home by Monday morningI swear I wish somebody would tell meOoh, that\\'s all I wantFour, five seconds from wildingAnd we got three more days \\'til FridayJust tryna make it back home by Monday morningI swear I wish somebody would tell me\\'Cause that\\'s all I want'"
      ]
     },
     "execution_count": 50,
     "metadata": {},
     "output_type": "execute_result"
    }
   ],
   "source": [
    "lyrics3 = ''.join(lyrics3)\n",
    "lyrics3"
   ]
  },
  {
   "cell_type": "code",
   "execution_count": 51,
   "id": "f121c5da",
   "metadata": {},
   "outputs": [],
   "source": [
    "response = requests.get(\"https://www.azlyrics.com/lyrics/rihanna/liftmeup.html\")\n",
    "html_string = response.text"
   ]
  },
  {
   "cell_type": "code",
   "execution_count": 52,
   "id": "a04b780e",
   "metadata": {},
   "outputs": [],
   "source": [
    "document4 = BeautifulSoup(html_string,\"html.parser\")"
   ]
  },
  {
   "cell_type": "code",
   "execution_count": 54,
   "id": "42c1392a",
   "metadata": {},
   "outputs": [
    {
     "data": {
      "text/plain": [
       "['Lift me up',\n",
       " 'Hold me down',\n",
       " 'Keep me close',\n",
       " 'Safe and sound',\n",
       " '',\n",
       " 'Burning in a hopeless dream',\n",
       " 'Hold me when you go to sleep',\n",
       " 'Keep me in the warmth of your love',\n",
       " 'When you depart keep me safe',\n",
       " 'Safe and sound',\n",
       " '',\n",
       " 'Lift me up',\n",
       " 'Hold me down',\n",
       " 'Keep me close',\n",
       " 'Safe and sound',\n",
       " '',\n",
       " 'Drowning in an endless sea',\n",
       " 'Take some time and stay with me',\n",
       " 'Keep me in the strength of your arms',\n",
       " 'Keep me safe',\n",
       " 'Safe and sound',\n",
       " '',\n",
       " 'Lift me up',\n",
       " 'Hold me down (Hold me down)',\n",
       " 'Keep me safe (Keep me close)',\n",
       " 'Safe and sound (Safe and sound)',\n",
       " '',\n",
       " 'Burning in a hopeless dream',\n",
       " 'Hold me when you go to sleep',\n",
       " 'Keep me safe',\n",
       " 'We need light',\n",
       " 'We need love',\n",
       " '',\n",
       " 'Lift me up (Lift me up, in your arms)',\n",
       " 'Hold me down (I need love, I need love, I need love)',\n",
       " 'Keep me close (Hold me, hold me)',\n",
       " 'Safe and sound (Hold me, hold me, hold me, hold me)',\n",
       " 'Lift me up (Hold me, hold me)',\n",
       " 'Hold me down (Hold me, hold me, hold me, hold me)',\n",
       " 'Keep me safe',\n",
       " 'We need light',\n",
       " 'We need love']"
      ]
     },
     "execution_count": 54,
     "metadata": {},
     "output_type": "execute_result"
    }
   ],
   "source": [
    "lyrics4 = document4.find(\"div\", attrs={\"class\":\"col-xs-12 col-lg-8 text-center\"}).text.strip().split('\\n')\n",
    "lyrics4 = lyrics4[12:54]\n",
    "lyrics4"
   ]
  },
  {
   "cell_type": "code",
   "execution_count": 55,
   "id": "568fe3b6",
   "metadata": {},
   "outputs": [
    {
     "data": {
      "text/plain": [
       "'Lift me upHold me downKeep me closeSafe and soundBurning in a hopeless dreamHold me when you go to sleepKeep me in the warmth of your loveWhen you depart keep me safeSafe and soundLift me upHold me downKeep me closeSafe and soundDrowning in an endless seaTake some time and stay with meKeep me in the strength of your armsKeep me safeSafe and soundLift me upHold me down (Hold me down)Keep me safe (Keep me close)Safe and sound (Safe and sound)Burning in a hopeless dreamHold me when you go to sleepKeep me safeWe need lightWe need loveLift me up (Lift me up, in your arms)Hold me down (I need love, I need love, I need love)Keep me close (Hold me, hold me)Safe and sound (Hold me, hold me, hold me, hold me)Lift me up (Hold me, hold me)Hold me down (Hold me, hold me, hold me, hold me)Keep me safeWe need lightWe need love'"
      ]
     },
     "execution_count": 55,
     "metadata": {},
     "output_type": "execute_result"
    }
   ],
   "source": [
    "lyrics4 = ''.join(lyrics4)\n",
    "lyrics4"
   ]
  },
  {
   "cell_type": "code",
   "execution_count": 56,
   "id": "f535e7e8",
   "metadata": {},
   "outputs": [],
   "source": [
    "response = requests.get(\"https://www.azlyrics.com/lyrics/rihanna/californiakingbed.html\")\n",
    "html_string = response.text"
   ]
  },
  {
   "cell_type": "code",
   "execution_count": 57,
   "id": "1f656f4d",
   "metadata": {},
   "outputs": [],
   "source": [
    "document5 = BeautifulSoup(html_string,\"html.parser\")"
   ]
  },
  {
   "cell_type": "code",
   "execution_count": 61,
   "id": "d7fa3223",
   "metadata": {},
   "outputs": [
    {
     "data": {
      "text/plain": [
       "['Chest to chest (Chest to chest)',\n",
       " 'Nose to nose (Nose to nose)',\n",
       " 'Palm to palm',\n",
       " 'We were always just that close (Just that close)',\n",
       " 'Wrist to wrist (Wrist to wrist)',\n",
       " 'Toe to toe (Toe to toe)',\n",
       " 'Lips that felt just like the inside of a rose',\n",
       " '',\n",
       " 'So how come when I reach out my finger',\n",
       " 'It feels like more than distance between us?',\n",
       " '',\n",
       " 'In this California king bed',\n",
       " \"We're ten thousand miles apart\",\n",
       " \"I've been California wishing on these stars\",\n",
       " 'For your heart, for me',\n",
       " 'My California king',\n",
       " '',\n",
       " 'Eye to eye (Eye to eye)',\n",
       " 'Cheek to cheek (Cheek to cheek)',\n",
       " 'Side by side',\n",
       " 'You were sleeping next to me (Oh, next to me)',\n",
       " 'Arm in arm',\n",
       " 'Dusk to dawn',\n",
       " 'With the curtains drawn',\n",
       " 'And a little last night on these sheets',\n",
       " '',\n",
       " 'So how come when I reach out my fingers',\n",
       " 'It seems like more than distance between us?',\n",
       " '',\n",
       " 'In this California king bed ',\n",
       " \"We're ten thousand miles apart\",\n",
       " \"I've been California wishing on these stars\",\n",
       " 'For your heart, for me',\n",
       " 'My California king',\n",
       " '',\n",
       " 'Just when I felt like giving up on us',\n",
       " 'You turned around and gave me one last touch',\n",
       " 'That made everything feel better',\n",
       " 'And even then, my eyes got wetter',\n",
       " 'So confused, wanna ask you if you love me',\n",
       " \"But I don't wanna seem so weak\",\n",
       " \"Maybe I've been California dreaming\",\n",
       " 'Hey, hey, hey, hey',\n",
       " '',\n",
       " 'In this California king bed',\n",
       " \"We're ten thousand miles apart\",\n",
       " 'Been California wishing on these stars',\n",
       " 'For your heart, for me',\n",
       " 'My California king',\n",
       " '',\n",
       " 'My California king',\n",
       " '',\n",
       " 'In this California king bed',\n",
       " \"We're ten thousand miles apart\",\n",
       " \"I've been California wishing on these stars\",\n",
       " 'For your heart, for me',\n",
       " 'My California king']"
      ]
     },
     "execution_count": 61,
     "metadata": {},
     "output_type": "execute_result"
    }
   ],
   "source": [
    "lyrics5 = document5.find(\"div\", attrs={\"class\":\"col-xs-12 col-lg-8 text-center\"}).text.strip().split('\\n')\n",
    "lyrics5 = lyrics5[11:68]\n",
    "lyrics5"
   ]
  },
  {
   "cell_type": "code",
   "execution_count": 66,
   "id": "2a0f5d3d",
   "metadata": {},
   "outputs": [],
   "source": [
    "data = [[],['Rihanna',title1,lyrics1],['Rihanna','Umbrella',lyrics2],['Rihanna','FourFiveSeconds',lyrics3],['Rihanna','Lift me up',lyrics4],['Rihanna','California king bed',lyrics5]]\n",
    "pd.set_option('max_colwidth',5000)\n",
    "\n",
    "df = pd.DataFrame(data,columns= ['Artist','Title','Lyrics'],dtype = str)"
   ]
  },
  {
   "cell_type": "code",
   "execution_count": 67,
   "id": "ffb71693",
   "metadata": {},
   "outputs": [
    {
     "data": {
      "text/html": [
       "<div>\n",
       "<style scoped>\n",
       "    .dataframe tbody tr th:only-of-type {\n",
       "        vertical-align: middle;\n",
       "    }\n",
       "\n",
       "    .dataframe tbody tr th {\n",
       "        vertical-align: top;\n",
       "    }\n",
       "\n",
       "    .dataframe thead th {\n",
       "        text-align: right;\n",
       "    }\n",
       "</style>\n",
       "<table border=\"1\" class=\"dataframe\">\n",
       "  <thead>\n",
       "    <tr style=\"text-align: right;\">\n",
       "      <th></th>\n",
       "      <th>Artist</th>\n",
       "      <th>Title</th>\n",
       "      <th>Lyrics</th>\n",
       "    </tr>\n",
       "  </thead>\n",
       "  <tbody>\n",
       "    <tr>\n",
       "      <th>0</th>\n",
       "      <td>None</td>\n",
       "      <td>None</td>\n",
       "      <td>None</td>\n",
       "    </tr>\n",
       "    <tr>\n",
       "      <th>1</th>\n",
       "      <td>Rihanna</td>\n",
       "      <td>Diamonds\"</td>\n",
       "      <td>Shine bright like a diamondShine bright like a diamondFind light in the beautiful seaI choose to be happyYou and I, you and IWe're like diamonds in the skyYou're a shooting star I seeA vision of ecstasyWhen you hold me, I'm aliveWe're like diamonds in the skyI knew that we'd become one right awayOh, right awayAt first sight I felt the energy of sun raysI saw the life inside your eyesSo shine bright tonight, you and IWe're beautiful like diamonds in the skyEye to eye, so aliveWe're beautiful like diamonds in the skyShine bright like a diamondShine bright like a diamondShine bright like a diamondWe're beautiful like diamonds in the skyShine bright like a diamondShine bright like a diamondShine bright like a diamondWe're beautiful like diamonds in the skyPalms rise to the universeAs we moonshine and mollyFeel the warmth, we'll never dieWe're like diamonds in the skyYou're a shooting star I seeA vision of ecstasyWhen you hold me, I'm aliveWe're like diamonds in the skyAt first sight I felt the energy of sun raysI saw the life inside your eyesSo shine bright tonight, you and IWe're beautiful like diamonds in the skyEye to eye, so aliveWe're beautiful like diamonds in the skyShine bright like a diamondShine bright like a diamondShine bright like a diamondWe're beautiful like diamonds in the skyShine bright like a diamondShine bright like a diamondShine bright like a diamondWe're beautiful like diamonds in the skyShine bright like a diamondShine bright like a diamondShine bright like a diamondSo shine bright tonight, you and IWe're beautiful like diamonds in the skyEye to eye, so aliveWe're beautiful like diamonds in the skyShine bright like a diamondShine bright like a diamondShine bright like a diamondOh, yeahShine bright like a diamondShine bright like a diamondShine bright like a diamondShine bright like a diamond</td>\n",
       "    </tr>\n",
       "    <tr>\n",
       "      <th>2</th>\n",
       "      <td>Rihanna</td>\n",
       "      <td>Umbrella</td>\n",
       "      <td>Uh-huh, uh-huh (Yeah, Rihanna)Uh-huh, uh-huh (Good Girl Gone Bad)Uh-huh, uh-huh (Take three, action)Uh-huh, uh-huh (Hov)No clouds in my stonesLet it rain, I hydroplane in the bankComing down with the Dow JonesWhen the clouds come, we gone, we Roc-A-FellaWe fly higher than weather, in G5's or betterYou know me (You know me)In anticipation for precipitation, stack chips for the rainy dayJayâRain Man is backWith Little Miss Sunshine, Rihanna, where you at?You have my heartAnd we'll never be worlds apartMaybe in magazinesBut you'll still be my starBaby, 'cause in the darkYou can't see shiny carsAnd that's when you need me thereWith you, I'll always shareBecauseWhen the sun shine, we shine togetherTold you I'll be here foreverSaid I'll always be your friendTook an oath, I'ma stick it out to the endNow that it's raining more than everKnow that we'll still have each otherYou can stand under my umbrellaYou can stand under my umbrellaâellaâella, eh, eh, ehUnder my umbrellaâellaâella, eh, eh, ehUnder my umbrellaâellaâella, eh, eh, ehUnder my umbrellaâellaâella, eh, eh, eh, eh, eh-ehThese fancy thingsWill never come in betweenYou're part of my entityHere for infinityWhen the war has took its partWhen the world has dealt its cardsIf the hand is hardTogether we'll mend your heartBecauseWhen the sun shine, we shine togetherTold you I'll be here foreverSaid I'll always be your friendTook an oath, I'ma stick it out to the endNow that it's raining more than everKnow that we'll still have each otherYou can stand under my umbrellaYou can stand under my umbrellaâellaâella, eh, eh, ehUnder my umbrellaâellaâella, eh, eh, ehUnder my umbrellaâellaâella, eh, eh, ehUnder my umbrellaâellaâella, eh, eh, eh, eh, eh-ehYou can run into my armsIt's okay, don't be alarmedCome into meThere's no distance in between our loveSo gon' and let the rain pourI'll be all you need and moreBecauseWhen the sun shine, we shine togetherTold you I'll be here foreverSaid I'll always be your friendTook an oath, I'ma stick it out to the endNow that it's raining more than everKnow that we'll still have each otherYou can stand under my umbrellaYou can stand under my umbrellaâellaâella, eh, eh, ehUnder my umbrellaâellaâella, eh, eh, ehUnder my umbrellaâellaâella, eh, eh, ehUnder my umbrellaâellaâella, eh, eh, eh, eh, eh-ehIt's raining, rainingOoh, baby, it's raining, rainingBaby, come here to meCome into meIt's raining, rainingOoh, baby, it's raining, rainingYou can always come into meCome into meIt's pouring rainIt's pouring rainCome here to meCome into meIt's pouring rainIt's pouring rain</td>\n",
       "    </tr>\n",
       "    <tr>\n",
       "      <th>3</th>\n",
       "      <td>Rihanna</td>\n",
       "      <td>FourFiveSeconds</td>\n",
       "      <td>I think I've had enoughI might get a little drunkI say what's on my mindI might do a little time'Cause all of my kindnessIs taken for weaknessNow I'm four, five seconds from wildingAnd we got three more days 'til FridayI'm just tryna make it back home by Monday morningI swear I wish somebody would tell meOoh, that's all I wantWoke up an optimistSun was shining, I'm positiveWe can runThen I heard you was talking trashI'm on a mysteryHold me back, I'm 'bout to spazYeah, I'm 'bout four, five seconds from wildingAnd we got three more days 'til FridayI'm tryna make it back home by Monday morningI swear I wish somebody would try meOoh, that's all I wantAnd I know that you're up tonightThinking, \"How could I be so selfish?\"But you called 'bout a thousand timesWondering where I've beenNow I know that you're up tonightThinking, \"How could I be so reckless?\"But I just can't apologizeI hope you can understand, yeahIf I go to jail tonightPromise you'll pay my bailSee they want to buy my prideBut that just ain't up for saleSee all of my kindness (mhm)Is taken for weaknessNow I'm four, five seconds from wildingAnd we got three more days 'til FridayI'm tryna make it back home by Monday morningI swear I wish somebody would tell meOoh, that's all I wantFour, five seconds from wildingAnd we got three more days 'til FridayJust tryna make it back home by Monday morningI swear I wish somebody would tell me'Cause that's all I want</td>\n",
       "    </tr>\n",
       "    <tr>\n",
       "      <th>4</th>\n",
       "      <td>Rihanna</td>\n",
       "      <td>Lift me up</td>\n",
       "      <td>Lift me upHold me downKeep me closeSafe and soundBurning in a hopeless dreamHold me when you go to sleepKeep me in the warmth of your loveWhen you depart keep me safeSafe and soundLift me upHold me downKeep me closeSafe and soundDrowning in an endless seaTake some time and stay with meKeep me in the strength of your armsKeep me safeSafe and soundLift me upHold me down (Hold me down)Keep me safe (Keep me close)Safe and sound (Safe and sound)Burning in a hopeless dreamHold me when you go to sleepKeep me safeWe need lightWe need loveLift me up (Lift me up, in your arms)Hold me down (I need love, I need love, I need love)Keep me close (Hold me, hold me)Safe and sound (Hold me, hold me, hold me, hold me)Lift me up (Hold me, hold me)Hold me down (Hold me, hold me, hold me, hold me)Keep me safeWe need lightWe need love</td>\n",
       "    </tr>\n",
       "    <tr>\n",
       "      <th>5</th>\n",
       "      <td>Rihanna</td>\n",
       "      <td>California king bed</td>\n",
       "      <td>['Chest to chest (Chest to chest)', 'Nose to nose (Nose to nose)', 'Palm to palm', 'We were always just that close (Just that close)', 'Wrist to wrist (Wrist to wrist)', 'Toe to toe (Toe to toe)', 'Lips that felt just like the inside of a rose', '', 'So how come when I reach out my finger', 'It feels like more than distance between us?', '', 'In this California king bed', \"We're ten thousand miles apart\", \"I've been California wishing on these stars\", 'For your heart, for me', 'My California king', '', 'Eye to eye (Eye to eye)', 'Cheek to cheek (Cheek to cheek)', 'Side by side', 'You were sleeping next to me (Oh, next to me)', 'Arm in arm', 'Dusk to dawn', 'With the curtains drawn', 'And a little last night on these sheets', '', 'So how come when I reach out my fingers', 'It seems like more than distance between us?', '', 'In this California king bed ', \"We're ten thousand miles apart\", \"I've been California wishing on these stars\", 'For your heart, for me', 'My California king', '', 'Just when I felt like giving up on us', 'You turned around and gave me one last touch', 'That made everything feel better', 'And even then, my eyes got wetter', 'So confused, wanna ask you if you love me', \"But I don't wanna seem so weak\", \"Maybe I've been California dreaming\", 'Hey, hey, hey, hey', '', 'In this California king bed', \"We're ten thousand miles apart\", 'Been California wishing on these stars', 'For your heart, for me', 'My California king', '', 'My California king', '', 'In this California king bed', \"We're ten thousand miles apart\", \"I've been California wishing on these stars\", 'For your heart, for me', 'My California king']</td>\n",
       "    </tr>\n",
       "  </tbody>\n",
       "</table>\n",
       "</div>"
      ],
      "text/plain": [
       "    Artist                Title  \\\n",
       "0     None                 None   \n",
       "1  Rihanna            Diamonds\"   \n",
       "2  Rihanna             Umbrella   \n",
       "3  Rihanna      FourFiveSeconds   \n",
       "4  Rihanna           Lift me up   \n",
       "5  Rihanna  California king bed   \n",
       "\n",
       "                                                                                                                                                                                                                                                                                                                                                                                                                                                                                                                                                                                                                                                                                                                                                                                                                                                                                                                                                                                                                                                                                                                                                                                                                                                                                                                                                                                                                                                                                                                                                                                                                                                                                                                                                                                                                                                                                                                                                                                                                                                                                                                                                                                                                                                                                                                                                                                                                                                                                                                                                                                                                                                                                                                                     Lyrics  \n",
       "0                                                                                                                                                                                                                                                                                                                                                                                                                                                                                                                                                                                                                                                                                                                                                                                                                                                                                                                                                                                                                                                                                                                                                                                                                                                                                                                                                                                                                                                                                                                                                                                                                                                                                                                                                                                                                                                                                                                                                                                                                                                                                                                                                                                                                                                                                                                                                                                                                                                                                                                                                                                                                                                                                                                                      None  \n",
       "1                                                                                                                                                                                                                                                                                                                                                                                                                                                                                                                                                                                                                                                                                                                                                                                                                        Shine bright like a diamondShine bright like a diamondFind light in the beautiful seaI choose to be happyYou and I, you and IWe're like diamonds in the skyYou're a shooting star I seeA vision of ecstasyWhen you hold me, I'm aliveWe're like diamonds in the skyI knew that we'd become one right awayOh, right awayAt first sight I felt the energy of sun raysI saw the life inside your eyesSo shine bright tonight, you and IWe're beautiful like diamonds in the skyEye to eye, so aliveWe're beautiful like diamonds in the skyShine bright like a diamondShine bright like a diamondShine bright like a diamondWe're beautiful like diamonds in the skyShine bright like a diamondShine bright like a diamondShine bright like a diamondWe're beautiful like diamonds in the skyPalms rise to the universeAs we moonshine and mollyFeel the warmth, we'll never dieWe're like diamonds in the skyYou're a shooting star I seeA vision of ecstasyWhen you hold me, I'm aliveWe're like diamonds in the skyAt first sight I felt the energy of sun raysI saw the life inside your eyesSo shine bright tonight, you and IWe're beautiful like diamonds in the skyEye to eye, so aliveWe're beautiful like diamonds in the skyShine bright like a diamondShine bright like a diamondShine bright like a diamondWe're beautiful like diamonds in the skyShine bright like a diamondShine bright like a diamondShine bright like a diamondWe're beautiful like diamonds in the skyShine bright like a diamondShine bright like a diamondShine bright like a diamondSo shine bright tonight, you and IWe're beautiful like diamonds in the skyEye to eye, so aliveWe're beautiful like diamonds in the skyShine bright like a diamondShine bright like a diamondShine bright like a diamondOh, yeahShine bright like a diamondShine bright like a diamondShine bright like a diamondShine bright like a diamond  \n",
       "2  Uh-huh, uh-huh (Yeah, Rihanna)Uh-huh, uh-huh (Good Girl Gone Bad)Uh-huh, uh-huh (Take three, action)Uh-huh, uh-huh (Hov)No clouds in my stonesLet it rain, I hydroplane in the bankComing down with the Dow JonesWhen the clouds come, we gone, we Roc-A-FellaWe fly higher than weather, in G5's or betterYou know me (You know me)In anticipation for precipitation, stack chips for the rainy dayJayâRain Man is backWith Little Miss Sunshine, Rihanna, where you at?You have my heartAnd we'll never be worlds apartMaybe in magazinesBut you'll still be my starBaby, 'cause in the darkYou can't see shiny carsAnd that's when you need me thereWith you, I'll always shareBecauseWhen the sun shine, we shine togetherTold you I'll be here foreverSaid I'll always be your friendTook an oath, I'ma stick it out to the endNow that it's raining more than everKnow that we'll still have each otherYou can stand under my umbrellaYou can stand under my umbrellaâellaâella, eh, eh, ehUnder my umbrellaâellaâella, eh, eh, ehUnder my umbrellaâellaâella, eh, eh, ehUnder my umbrellaâellaâella, eh, eh, eh, eh, eh-ehThese fancy thingsWill never come in betweenYou're part of my entityHere for infinityWhen the war has took its partWhen the world has dealt its cardsIf the hand is hardTogether we'll mend your heartBecauseWhen the sun shine, we shine togetherTold you I'll be here foreverSaid I'll always be your friendTook an oath, I'ma stick it out to the endNow that it's raining more than everKnow that we'll still have each otherYou can stand under my umbrellaYou can stand under my umbrellaâellaâella, eh, eh, ehUnder my umbrellaâellaâella, eh, eh, ehUnder my umbrellaâellaâella, eh, eh, ehUnder my umbrellaâellaâella, eh, eh, eh, eh, eh-ehYou can run into my armsIt's okay, don't be alarmedCome into meThere's no distance in between our loveSo gon' and let the rain pourI'll be all you need and moreBecauseWhen the sun shine, we shine togetherTold you I'll be here foreverSaid I'll always be your friendTook an oath, I'ma stick it out to the endNow that it's raining more than everKnow that we'll still have each otherYou can stand under my umbrellaYou can stand under my umbrellaâellaâella, eh, eh, ehUnder my umbrellaâellaâella, eh, eh, ehUnder my umbrellaâellaâella, eh, eh, ehUnder my umbrellaâellaâella, eh, eh, eh, eh, eh-ehIt's raining, rainingOoh, baby, it's raining, rainingBaby, come here to meCome into meIt's raining, rainingOoh, baby, it's raining, rainingYou can always come into meCome into meIt's pouring rainIt's pouring rainCome here to meCome into meIt's pouring rainIt's pouring rain  \n",
       "3                                                                                                                                                                                                                                                                                                                                                                                                                                                                                                                                                                                                                                                                                                                                                                                                                                                                                                                                                                                                                                                                                                                                                                                                                                                  I think I've had enoughI might get a little drunkI say what's on my mindI might do a little time'Cause all of my kindnessIs taken for weaknessNow I'm four, five seconds from wildingAnd we got three more days 'til FridayI'm just tryna make it back home by Monday morningI swear I wish somebody would tell meOoh, that's all I wantWoke up an optimistSun was shining, I'm positiveWe can runThen I heard you was talking trashI'm on a mysteryHold me back, I'm 'bout to spazYeah, I'm 'bout four, five seconds from wildingAnd we got three more days 'til FridayI'm tryna make it back home by Monday morningI swear I wish somebody would try meOoh, that's all I wantAnd I know that you're up tonightThinking, \"How could I be so selfish?\"But you called 'bout a thousand timesWondering where I've beenNow I know that you're up tonightThinking, \"How could I be so reckless?\"But I just can't apologizeI hope you can understand, yeahIf I go to jail tonightPromise you'll pay my bailSee they want to buy my prideBut that just ain't up for saleSee all of my kindness (mhm)Is taken for weaknessNow I'm four, five seconds from wildingAnd we got three more days 'til FridayI'm tryna make it back home by Monday morningI swear I wish somebody would tell meOoh, that's all I wantFour, five seconds from wildingAnd we got three more days 'til FridayJust tryna make it back home by Monday morningI swear I wish somebody would tell me'Cause that's all I want  \n",
       "4                                                                                                                                                                                                                                                                                                                                                                                                                                                                                                                                                                                                                                                                                                                                                                                                                                                                                                                                                                                                                                                                                                                                                                                                                                                                                                                                                                                                                                                                                                                                                                                                                                                                                                                                                                                                                                                                                   Lift me upHold me downKeep me closeSafe and soundBurning in a hopeless dreamHold me when you go to sleepKeep me in the warmth of your loveWhen you depart keep me safeSafe and soundLift me upHold me downKeep me closeSafe and soundDrowning in an endless seaTake some time and stay with meKeep me in the strength of your armsKeep me safeSafe and soundLift me upHold me down (Hold me down)Keep me safe (Keep me close)Safe and sound (Safe and sound)Burning in a hopeless dreamHold me when you go to sleepKeep me safeWe need lightWe need loveLift me up (Lift me up, in your arms)Hold me down (I need love, I need love, I need love)Keep me close (Hold me, hold me)Safe and sound (Hold me, hold me, hold me, hold me)Lift me up (Hold me, hold me)Hold me down (Hold me, hold me, hold me, hold me)Keep me safeWe need lightWe need love  \n",
       "5                                                                                                                                                                                                                                                                                                                                                                                                                                                                                                                                                                                                                                                                                                                                                                                                                                                                                                                                                                                                                         ['Chest to chest (Chest to chest)', 'Nose to nose (Nose to nose)', 'Palm to palm', 'We were always just that close (Just that close)', 'Wrist to wrist (Wrist to wrist)', 'Toe to toe (Toe to toe)', 'Lips that felt just like the inside of a rose', '', 'So how come when I reach out my finger', 'It feels like more than distance between us?', '', 'In this California king bed', \"We're ten thousand miles apart\", \"I've been California wishing on these stars\", 'For your heart, for me', 'My California king', '', 'Eye to eye (Eye to eye)', 'Cheek to cheek (Cheek to cheek)', 'Side by side', 'You were sleeping next to me (Oh, next to me)', 'Arm in arm', 'Dusk to dawn', 'With the curtains drawn', 'And a little last night on these sheets', '', 'So how come when I reach out my fingers', 'It seems like more than distance between us?', '', 'In this California king bed ', \"We're ten thousand miles apart\", \"I've been California wishing on these stars\", 'For your heart, for me', 'My California king', '', 'Just when I felt like giving up on us', 'You turned around and gave me one last touch', 'That made everything feel better', 'And even then, my eyes got wetter', 'So confused, wanna ask you if you love me', \"But I don't wanna seem so weak\", \"Maybe I've been California dreaming\", 'Hey, hey, hey, hey', '', 'In this California king bed', \"We're ten thousand miles apart\", 'Been California wishing on these stars', 'For your heart, for me', 'My California king', '', 'My California king', '', 'In this California king bed', \"We're ten thousand miles apart\", \"I've been California wishing on these stars\", 'For your heart, for me', 'My California king']  "
      ]
     },
     "execution_count": 67,
     "metadata": {},
     "output_type": "execute_result"
    }
   ],
   "source": [
    "df"
   ]
  }
 ],
 "metadata": {
  "kernelspec": {
   "display_name": "Python 3 (ipykernel)",
   "language": "python",
   "name": "python3"
  },
  "language_info": {
   "codemirror_mode": {
    "name": "ipython",
    "version": 3
   },
   "file_extension": ".py",
   "mimetype": "text/x-python",
   "name": "python",
   "nbconvert_exporter": "python",
   "pygments_lexer": "ipython3",
   "version": "3.9.12"
  }
 },
 "nbformat": 4,
 "nbformat_minor": 5
}
